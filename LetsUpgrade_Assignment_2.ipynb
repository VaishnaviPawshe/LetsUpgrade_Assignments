{
  "nbformat": 4,
  "nbformat_minor": 0,
  "metadata": {
    "colab": {
      "name": "Assignment 2.ipynb",
      "provenance": [],
      "collapsed_sections": []
    },
    "kernelspec": {
      "name": "python3",
      "display_name": "Python 3"
    }
  },
  "cells": [
    {
      "cell_type": "markdown",
      "metadata": {
        "id": "m06d_K1WkybQ",
        "colab_type": "text"
      },
      "source": [
        "**Assignment-2**\n",
        "Vaishnavi Pawshe (vaishnavipawshe26@gmail.com)\n",
        "\n",
        "Question:1"
      ]
    },
    {
      "cell_type": "code",
      "metadata": {
        "id": "GrtwbstHh5zM",
        "colab_type": "code",
        "colab": {
          "base_uri": "https://localhost:8080/",
          "height": 51
        },
        "outputId": "2f8b107d-9a83-4f29-a29e-b36e59abe571"
      },
      "source": [
        "i=input(\"Enter Height Of plane:\")\n",
        "s=int(i)\n",
        "print(\"Now Planes Height is:\",s)"
      ],
      "execution_count": 4,
      "outputs": [
        {
          "output_type": "stream",
          "text": [
            "Enter Height Of plane:5555\n",
            "Now Planes Height is: 5555\n"
          ],
          "name": "stdout"
        }
      ]
    },
    {
      "cell_type": "code",
      "metadata": {
        "id": "YbRvwMwdidWI",
        "colab_type": "code",
        "colab": {
          "base_uri": "https://localhost:8080/",
          "height": 34
        },
        "outputId": "f9391e4d-2bb4-4a74-ee21-737f7b814780"
      },
      "source": [
        "if (s>999 and s<5001):\n",
        "  print(\"Safe to Land!!!\")\n",
        "elif (s==6500):\n",
        "  print(\"Turn Around\")\n",
        "else:\n",
        "  print(\"Bring the plane in safe landing zone from 1000 to 5000\")"
      ],
      "execution_count": 6,
      "outputs": [
        {
          "output_type": "stream",
          "text": [
            "Bring the plane in safe landing zone from 1000 to 5000\n"
          ],
          "name": "stdout"
        }
      ]
    },
    {
      "cell_type": "code",
      "metadata": {
        "id": "M_IVjW2UpUsc",
        "colab_type": "code",
        "colab": {}
      },
      "source": [
        "Question no-2\n",
        "Checking the prime number"
      ],
      "execution_count": null,
      "outputs": []
    },
    {
      "cell_type": "code",
      "metadata": {
        "id": "869TkhKQlRCy",
        "colab_type": "code",
        "colab": {
          "base_uri": "https://localhost:8080/",
          "height": 51
        },
        "outputId": "10d9b422-84af-43ae-ac13-0dd91a781077"
      },
      "source": [
        "# Program to check if a number is prime or not\n",
        "\n",
        "num = 205\n",
        "\n",
        "# To take input from the user\n",
        "#num = int(input(\"Enter a number: \"))\n",
        "\n",
        "# prime numbers are greater than 1\n",
        "if num > 1:\n",
        "   # check for factors\n",
        "   for i in range(2,num):\n",
        "       if (num % i) == 0:\n",
        "           print(num,\"is not a prime number\")\n",
        "           print(i,\"times\",num//i,\"is\",num)\n",
        "           break\n",
        "   else:\n",
        "       print(num,\"is a prime number\")\n",
        "       \n",
        "# if input number is less than\n",
        "# or equal to 1, it is not prime\n",
        "else:\n",
        "   print(num,\"is not a prime number\")\n"
      ],
      "execution_count": 7,
      "outputs": [
        {
          "output_type": "stream",
          "text": [
            "205 is not a prime number\n",
            "5 times 41 is 205\n"
          ],
          "name": "stdout"
        }
      ]
    }
  ]
}